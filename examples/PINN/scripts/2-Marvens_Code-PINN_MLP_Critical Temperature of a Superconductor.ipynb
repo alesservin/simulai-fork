{
 "cells": [
  {
   "cell_type": "markdown",
   "id": "f5f38950-d5c8-4390-a7e4-fa0955780805",
   "metadata": {},
   "source": [
    "# PINN by MLP (Critical Temperature of a Superconductor)"
   ]
  },
  {
   "cell_type": "code",
   "execution_count": 6,
   "id": "15a50f9c-78c7-4493-9562-0059061ca0b8",
   "metadata": {},
   "outputs": [],
   "source": [
    "import pandas as pd\n",
    "import torch\n",
    "import torch.nn as nn\n",
    "from torch.utils.data import DataLoader, TensorDataset\n",
    "from sklearn.model_selection import train_test_split\n",
    "from torch.optim.lr_scheduler import StepLR # for update the learning rate"
   ]
  },
  {
   "cell_type": "markdown",
   "id": "1d654495-e794-4ddf-8bd5-c15c865c55dd",
   "metadata": {},
   "source": [
    "## Load datasets"
   ]
  },
  {
   "cell_type": "code",
   "execution_count": 7,
   "id": "a194466d-6290-4641-abe8-8df15231914c",
   "metadata": {},
   "outputs": [],
   "source": [
    "train_data = pd.read_csv(\"./Critical Temperature of a Superconductor/train.csv\")"
   ]
  },
  {
   "cell_type": "code",
   "execution_count": 8,
   "id": "faf24ca6-fe32-413f-9aec-8ba0316025c8",
   "metadata": {},
   "outputs": [],
   "source": [
    "# Extract features and target variable\n",
    "X = train_data.iloc[:, :-1].values  # Features (all columns except the last)\n",
    "y = train_data.iloc[:, -1].values   # Target (last column, critical temperature)\n",
    "\n",
    "X_train, X_temp, y_train, y_temp = train_test_split(X, y, test_size=0.3, random_state=42)\n",
    "X_val, X_test, y_val, y_test = train_test_split(X_temp, y_temp, test_size=0.33, random_state=42)"
   ]
  },
  {
   "cell_type": "code",
   "execution_count": 9,
   "id": "8e87a3a9-6cb8-4034-96ba-ae395cc77df7",
   "metadata": {},
   "outputs": [],
   "source": [
    "# Convert to PyTorch tensors\n",
    "X_train_tensor = torch.tensor(X_train, dtype=torch.float32)\n",
    "y_train_tensor = torch.tensor(y_train, dtype=torch.float32).view(-1, 1)\n",
    "X_val_tensor = torch.tensor(X_val, dtype=torch.float32)\n",
    "y_val_tensor = torch.tensor(y_val, dtype=torch.float32).view(-1, 1)\n",
    "X_test_tensor = torch.tensor(X_test, dtype=torch.float32)\n",
    "y_test_tensor = torch.tensor(y_test, dtype=torch.float32).view(-1, 1)"
   ]
  },
  {
   "cell_type": "markdown",
   "id": "a30447d5-68ff-4c82-bec6-4ace2826c050",
   "metadata": {},
   "source": [
    "## Define the MLP model"
   ]
  },
  {
   "cell_type": "code",
   "execution_count": 10,
   "id": "5360b728-00c5-43bf-8428-6c5d8a4d1413",
   "metadata": {},
   "outputs": [],
   "source": [
    "class MLP_PINN(nn.Module):\n",
    "    \n",
    "    def __init__(self, input_dim, hidden_dim, output_dim, num_layers, activation=nn.ReLU):\n",
    "        \n",
    "        super(MLP_PINN, self).__init__()\n",
    "        layers = [nn.Linear(input_dim, hidden_dim), activation()]\n",
    "        \n",
    "        for _ in range(num_layers - 1):\n",
    "            layers.append(nn.Linear(hidden_dim, hidden_dim))\n",
    "            layers.append(activation())\n",
    "            layers.append(nn.Dropout(0.2))  # Dropout to prevent overfitting\n",
    "        \n",
    "        layers.append(nn.Linear(hidden_dim, output_dim))  # Output layer\n",
    "        self.model = nn.Sequential(*layers)\n",
    "        \n",
    "    def forward(self, x):\n",
    "        return self.model(x)\n",
    "        "
   ]
  },
  {
   "cell_type": "code",
   "execution_count": null,
   "id": "d64e76dc-b110-4448-8476-b50be4f7bbbc",
   "metadata": {},
   "outputs": [],
   "source": [
    "# Initialize model\n",
    "input_dim = X_train.shape[1]  # Number of features\n",
    "hidden_dim = 128  # Number of neurons in hidden layers\n",
    "output_dim = 1  # Single output (critical temperature)\n",
    "num_layers = 4  # Number of hidden layers\n",
    "\n",
    "model = MLP_PINN(input_dim, hidden_dim, output_dim, num_layers)"
   ]
  },
  {
   "cell_type": "markdown",
   "id": "968b81e0-900c-4985-8f8e-e4aa32651c85",
   "metadata": {},
   "source": [
    "## Loss Function"
   ]
  },
  {
   "cell_type": "code",
   "execution_count": 34,
   "id": "d7f27b1b-6656-4dd3-8bbc-37bf66cb6ba2",
   "metadata": {},
   "outputs": [],
   "source": [
    "def rmse_loss(y_true, y_pred):\n",
    "    \n",
    "    mse_loss = nn.functional.mse_loss(y_pred, y_true) \n",
    "    \n",
    "    return torch.sqrt(mse_loss)  "
   ]
  },
  {
   "cell_type": "code",
   "execution_count": 35,
   "id": "101a29f4-36ad-4f3c-81ef-d6154a5bad19",
   "metadata": {},
   "outputs": [
    {
     "data": {
      "text/plain": [
       "'\\n    def physics_loss(x, y_pred):\\n    \\n    return torch.mean(residual**2)\\n'"
      ]
     },
     "execution_count": 35,
     "metadata": {},
     "output_type": "execute_result"
    }
   ],
   "source": [
    "\"\"\"\n",
    "    def physics_loss(x, y_pred):\n",
    "    \n",
    "    return torch.mean(residual**2)\n",
    "\"\"\""
   ]
  },
  {
   "cell_type": "code",
   "execution_count": 36,
   "id": "fe3c9b32-4e07-462b-bfdf-6be6b9dde4a0",
   "metadata": {},
   "outputs": [],
   "source": [
    "#def data_loss(y_true, y_pred):\n",
    "    \n",
    "    #return nn.rmse_loss()(y_pred, y_true)\n",
    "\n",
    "loss_fn = rmse_loss\n"
   ]
  },
  {
   "cell_type": "code",
   "execution_count": 37,
   "id": "45c9409c-bb73-40cb-a695-fc814f46f3ab",
   "metadata": {},
   "outputs": [
    {
     "data": {
      "text/plain": [
       "'\\ndef combined_loss(x, y_true, y_pred):\\n\\n    data_loss_value = data_loss(y_true, y_pred)\\n    physics_loss_value = physics_loss(x, y_pred)\\n\\n    total_loss = data_loss + lambda * physics_loss\\n    \\n    return total_loss\\n'"
      ]
     },
     "execution_count": 37,
     "metadata": {},
     "output_type": "execute_result"
    }
   ],
   "source": [
    "\"\"\"\n",
    "def combined_loss(x, y_true, y_pred):\n",
    "\n",
    "    data_loss_value = data_loss(y_true, y_pred)\n",
    "    physics_loss_value = physics_loss(x, y_pred)\n",
    "\n",
    "    total_loss = data_loss + lambda * physics_loss\n",
    "    \n",
    "    return total_loss\n",
    "\"\"\""
   ]
  },
  {
   "cell_type": "markdown",
   "id": "62fe948b-8ff5-4d73-a17d-3527545d467c",
   "metadata": {},
   "source": [
    "## Model Training"
   ]
  },
  {
   "cell_type": "code",
   "execution_count": 38,
   "id": "43b3247c-1e1b-4e6a-a863-5e31d0590561",
   "metadata": {},
   "outputs": [],
   "source": [
    "# Optimizer\n",
    "optimizer = torch.optim.Adam(model.parameters(), lr=0.001) #initial learning rate = 0.01\n",
    "scheduler = StepLR(optimizer, step_size=10, gamma=0.1) #epoch % 10 == 0, lr * 0.1"
   ]
  },
  {
   "cell_type": "code",
   "execution_count": 39,
   "id": "00bc714b-1285-4024-9e68-542a93cdfa1d",
   "metadata": {},
   "outputs": [],
   "source": [
    "# Create DataLoader\n",
    "train_dataset = TensorDataset(X_train_tensor, y_train_tensor)\n",
    "train_loader = DataLoader(train_dataset, batch_size=32, shuffle=True)"
   ]
  },
  {
   "cell_type": "code",
   "execution_count": 40,
   "id": "2c83a2b6-72f0-44ca-a178-405bea528079",
   "metadata": {},
   "outputs": [
    {
     "name": "stdout",
     "output_type": "stream",
     "text": [
      "Epoch 0, Training Loss: 5.0794291496276855, Validation Loss: 19.817869186401367\n",
      "Epoch 10, Training Loss: 20.40797996520996, Validation Loss: 28.750885009765625\n",
      "Epoch 20, Training Loss: 18.465688705444336, Validation Loss: 17.486940383911133\n",
      "Epoch 30, Training Loss: 17.28324317932129, Validation Loss: 18.315826416015625\n",
      "Epoch 40, Training Loss: 12.116684913635254, Validation Loss: 18.014558792114258\n",
      "Epoch 50, Training Loss: 6.143571853637695, Validation Loss: 20.818016052246094\n",
      "Epoch 60, Training Loss: 8.783123970031738, Validation Loss: 18.26993179321289\n",
      "Epoch 70, Training Loss: 9.648964881896973, Validation Loss: 15.19027328491211\n",
      "Epoch 80, Training Loss: 2.448293447494507, Validation Loss: 16.132932662963867\n",
      "Epoch 90, Training Loss: 22.842145919799805, Validation Loss: 18.034488677978516\n",
      "Epoch 100, Training Loss: 28.18366050720215, Validation Loss: 19.548568725585938\n",
      "Epoch 110, Training Loss: 6.024419784545898, Validation Loss: 16.884401321411133\n",
      "Epoch 120, Training Loss: 4.553137302398682, Validation Loss: 17.433412551879883\n",
      "Early stopping triggered\n"
     ]
    }
   ],
   "source": [
    "# Training loop\n",
    "num_epochs = 1000\n",
    "best_val_loss = float('inf')  \n",
    "early_stop_counter = 0  \n",
    "patience = 50\n",
    "\n",
    "for epoch in range(num_epochs):\n",
    "    #training\n",
    "    model.train()\n",
    "    for batch_X, batch_y in train_loader:\n",
    "        # Fowardpass\n",
    "        predictions = model(batch_X)\n",
    "        loss = loss_fn(predictions, batch_y)\n",
    "        \n",
    "        # Backwardpass\n",
    "        optimizer.zero_grad()\n",
    "        loss.backward()\n",
    "        optimizer.step()\n",
    "    \n",
    "    # valid\n",
    "    model.eval()\n",
    "    with torch.no_grad():\n",
    "        val_predictions = model(X_val_tensor)\n",
    "        val_loss = loss_fn(val_predictions, y_val_tensor)\n",
    "    \n",
    "    if epoch % 10 == 0:\n",
    "        print(f\"Epoch {epoch}, Training Loss: {loss.item()}, Validation Loss: {val_loss.item()}\")\n",
    "\n",
    "    if val_loss < best_val_loss:\n",
    "        best_val_loss = val_loss\n",
    "        early_stop_counter = 0  \n",
    "        best_model_state = model.state_dict()  \n",
    "    else:\n",
    "        early_stop_counter += 1\n",
    "        if early_stop_counter >= patience:\n",
    "            print(\"Early stopping triggered\")\n",
    "            break"
   ]
  },
  {
   "cell_type": "markdown",
   "id": "a8b19519-b3d4-4f15-8c95-116489d2b34d",
   "metadata": {},
   "source": [
    "## Evaluation"
   ]
  },
  {
   "cell_type": "code",
   "execution_count": 41,
   "id": "c536ab72-f5a5-40cb-992c-9b95b9b1c972",
   "metadata": {},
   "outputs": [
    {
     "name": "stdout",
     "output_type": "stream",
     "text": [
      "Test Loss (RMSE): 16.62873077392578\n"
     ]
    }
   ],
   "source": [
    "model.load_state_dict(best_model_state)  \n",
    "model.eval()\n",
    "\n",
    "with torch.no_grad():\n",
    "    test_predictions = model(X_test_tensor)\n",
    "    test_loss = loss_fn(test_predictions, y_test_tensor)\n",
    "    print(f\"Test Loss (RMSE): {test_loss.item()}\")"
   ]
  },
  {
   "cell_type": "code",
   "execution_count": null,
   "id": "523707c8-5112-44ba-854f-427334ca785e",
   "metadata": {},
   "outputs": [],
   "source": []
  }
 ],
 "metadata": {
  "kernelspec": {
   "display_name": "Python 3 (ipykernel)",
   "language": "python",
   "name": "python3"
  },
  "language_info": {
   "codemirror_mode": {
    "name": "ipython",
    "version": 3
   },
   "file_extension": ".py",
   "mimetype": "text/x-python",
   "name": "python",
   "nbconvert_exporter": "python",
   "pygments_lexer": "ipython3",
   "version": "3.9.20"
  }
 },
 "nbformat": 4,
 "nbformat_minor": 5
}
